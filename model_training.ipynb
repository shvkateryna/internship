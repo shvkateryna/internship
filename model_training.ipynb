{
 "cells": [
  {
   "cell_type": "code",
   "execution_count": 1,
   "id": "4688b127",
   "metadata": {},
   "outputs": [
    {
     "name": "stderr",
     "output_type": "stream",
     "text": [
      "C:\\Users\\SHHome-Rdp_Kate\\AppData\\Local\\Packages\\PythonSoftwareFoundation.Python.3.11_qbz5n2kfra8p0\\LocalCache\\local-packages\\Python311\\site-packages\\tqdm\\auto.py:21: TqdmWarning: IProgress not found. Please update jupyter and ipywidgets. See https://ipywidgets.readthedocs.io/en/stable/user_install.html\n",
      "  from .autonotebook import tqdm as notebook_tqdm\n"
     ]
    }
   ],
   "source": [
    "import os, re, gzip, random, warnings\n",
    "from xml.etree.ElementTree import iterparse\n",
    "\n",
    "import numpy as np\n",
    "import torch \n",
    "from datasets import Dataset\n",
    "import evaluate\n",
    "from sklearn.model_selection import train_test_split \n",
    "\n",
    "from transformers import (\n",
    "    AutoTokenizer, AutoModelForSeq2SeqLM,\n",
    "    DataCollatorForSeq2Seq, Seq2SeqTrainer, Seq2SeqTrainingArguments, set_seed\n",
    ") \n",
    "from peft import LoraConfig, get_peft_model"
   ]
  },
  {
   "cell_type": "code",
   "execution_count": 2,
   "id": "fde5173f",
   "metadata": {},
   "outputs": [],
   "source": [
    "set_seed(42)"
   ]
  },
  {
   "cell_type": "code",
   "execution_count": 3,
   "id": "934189dd",
   "metadata": {},
   "outputs": [],
   "source": [
    "file_path = \"uk-en.tmx.gz\""
   ]
  },
  {
   "cell_type": "code",
   "execution_count": 4,
   "id": "5881fedf",
   "metadata": {},
   "outputs": [],
   "source": [
    "torch.backends.cuda.matmul.allow_tf32 = True\n",
    "torch.backends.cudnn.allow_tf32 = True\n",
    "torch.backends.cudnn.benchmark = True\n",
    "\n",
    "device = \"cuda\" if torch.cuda.is_available() else \"cpu\"\n",
    "use_bf16 = torch.cuda.is_available() and torch.cuda.is_bf16_supported()\n",
    "use_fp16 = (not use_bf16) and torch.cuda.is_available()"
   ]
  },
  {
   "cell_type": "code",
   "execution_count": 5,
   "id": "3ac26bab",
   "metadata": {},
   "outputs": [
    {
     "data": {
      "text/plain": [
       "'cuda'"
      ]
     },
     "execution_count": 5,
     "metadata": {},
     "output_type": "execute_result"
    }
   ],
   "source": [
    "device"
   ]
  },
  {
   "cell_type": "code",
   "execution_count": 6,
   "id": "d21b9856",
   "metadata": {},
   "outputs": [
    {
     "data": {
      "text/plain": [
       "True"
      ]
     },
     "execution_count": 6,
     "metadata": {},
     "output_type": "execute_result"
    }
   ],
   "source": [
    "use_bf16"
   ]
  },
  {
   "cell_type": "code",
   "execution_count": 7,
   "id": "febcd3f0",
   "metadata": {},
   "outputs": [],
   "source": [
    "moskalski = re.compile(r\"[ёъыэЁЪЫЭ]\")\n",
    "url = re.compile(r\"\"\"https?://\\S+|www\\.\\S+\"\"\", re.IGNORECASE)\n",
    "email = re.compile(r\"\"\"[A-Z0-9._%+-]+@[A-Z0-9.-]+\\.[A-Z]{2,}\"\"\", re.IGNORECASE)\n",
    "multispace = re.compile(r\"\\s+\")\n",
    "apostrophes = \"’‘`´ʼʹʽ＇＇❛❜ꞌʾ\"\n",
    "apostrophe_re = re.compile(f\"[{apostrophes}]\")\n",
    "quotes = \"«»“”„‟❝❞〝〞＂\"\n",
    "quotes_re = re.compile(f\"[{quotes}]\")\n",
    "dashes = \"–—−‒―\"\n",
    "dashes_re = re.compile(f\"[{dashes}]\")\n",
    "right_apostrophe = \"\\u02BC\"\n",
    "\n",
    "def read_tmx_pairs(file_path, limit):\n",
    "    pairs = []\n",
    "    seen_pairs = set()\n",
    "    seen_src   = set()\n",
    "    with gzip.open(file_path, \"r\") as file:\n",
    "        counter = 0\n",
    "        for _, element in iterparse(file, events=(\"end\",)):\n",
    "            if element.tag == \"tu\":\n",
    "                en_text = None\n",
    "                uk_text = None\n",
    "                for inner_element in element:\n",
    "                    if inner_element.tag == \"tuv\":\n",
    "                        language = inner_element.attrib.get(\"{http://www.w3.org/XML/1998/namespace}lang\")\n",
    "                        seg = inner_element.find(\"seg\")\n",
    "                        sentence = seg.text.strip()\n",
    "                        sentence = unicodedata.normalize(\"NFKC\", sentence)\n",
    "                        sentence = url.sub(\" \", sentence)\n",
    "                        sentence = email.sub(\" \", sentence)\n",
    "                        sentence = multispace.sub(\" \", sentence)\n",
    "                        sentence = apostrophe_re.sub(right_apostrophe, sentence)\n",
    "                        sentence = quotes_re.sub(\"'\", sentence)\n",
    "                        sentence = dashes_re.sub(\"-\", sentence)\n",
    "                        if language == \"en\":\n",
    "                            english = sentence\n",
    "                        elif language == \"uk\":\n",
    "                            ukrainian = sentence\n",
    "                if len(english.split()) > 2 and len(ukrainian.split()) > 1 and not moskalski.search(ukrainian):\n",
    "                    if english in seen_src:\n",
    "                        pass\n",
    "                    else:\n",
    "                        key = (english, ukrainian)\n",
    "                        if key in seen_pairs:\n",
    "                            pass\n",
    "                        else:\n",
    "                            pairs.append(key)\n",
    "                            seen_pairs.add(key)\n",
    "                            seen_src.add(english)\n",
    "                            counter += 1\n",
    "                            if counter >= limit:\n",
    "                                break\n",
    "                element.clear()\n",
    "                element.clear()\n",
    "    return pairs\n",
    "\n",
    "pairs = read_tmx_pairs(file_path, 100000)"
   ]
  },
  {
   "cell_type": "code",
   "execution_count": 8,
   "id": "95d5e3bd",
   "metadata": {},
   "outputs": [
    {
     "data": {
      "text/plain": [
       "100000"
      ]
     },
     "execution_count": 8,
     "metadata": {},
     "output_type": "execute_result"
    }
   ],
   "source": [
    "len(pairs)"
   ]
  },
  {
   "cell_type": "code",
   "execution_count": 9,
   "id": "a8d60687",
   "metadata": {},
   "outputs": [
    {
     "data": {
      "text/plain": [
       "('Developers decided to explore something new after atomizers and developed the simplest kit called Pollux 25.',\n",
       " 'Після атомайзерів розробники вирішили спробувати себе в чомусь новому - та створили найпростіший набір Pollux 25.')"
      ]
     },
     "execution_count": 9,
     "metadata": {},
     "output_type": "execute_result"
    }
   ],
   "source": [
    "pairs[0]"
   ]
  },
  {
   "cell_type": "code",
   "execution_count": 10,
   "id": "49ddb7d9",
   "metadata": {},
   "outputs": [],
   "source": [
    "X = [sentences[0] for sentences in pairs]\n",
    "y = [sentences[1] for sentences in pairs]"
   ]
  },
  {
   "cell_type": "code",
   "execution_count": 11,
   "id": "a540b654",
   "metadata": {},
   "outputs": [
    {
     "data": {
      "text/plain": [
       "('Developers decided to explore something new after atomizers and developed the simplest kit called Pollux 25.',\n",
       " 'Після атомайзерів розробники вирішили спробувати себе в чомусь новому - та створили найпростіший набір Pollux 25.')"
      ]
     },
     "execution_count": 11,
     "metadata": {},
     "output_type": "execute_result"
    }
   ],
   "source": [
    "X[0], y[0]"
   ]
  },
  {
   "cell_type": "code",
   "execution_count": 12,
   "id": "71405723",
   "metadata": {},
   "outputs": [],
   "source": [
    "X_train, X_temp, y_train, y_temp = train_test_split(X, y, test_size=0.10, random_state=42)\n",
    "X_valid, X_test, y_valid, y_test = train_test_split(X_temp, y_temp, test_size=0.50, random_state=42)"
   ]
  },
  {
   "cell_type": "code",
   "execution_count": 13,
   "id": "eb5eba2f",
   "metadata": {},
   "outputs": [],
   "source": [
    "train_raw = Dataset.from_dict({\"src\": X_train, \"tgt\": y_train})\n",
    "valid_raw = Dataset.from_dict({\"src\": X_valid, \"tgt\": y_valid})\n",
    "test_raw  = Dataset.from_dict({\"src\": X_test,  \"tgt\": y_test})"
   ]
  },
  {
   "cell_type": "code",
   "execution_count": 14,
   "id": "1c8c8c81",
   "metadata": {},
   "outputs": [
    {
     "data": {
      "text/plain": [
       "(90000, 5000, 5000)"
      ]
     },
     "execution_count": 14,
     "metadata": {},
     "output_type": "execute_result"
    }
   ],
   "source": [
    "len(train_raw), len(valid_raw), len(test_raw)"
   ]
  },
  {
   "cell_type": "code",
   "execution_count": 15,
   "id": "aaad3861",
   "metadata": {},
   "outputs": [
    {
     "name": "stderr",
     "output_type": "stream",
     "text": [
      "You are using the default legacy behaviour of the <class 'transformers.models.t5.tokenization_t5.T5Tokenizer'>. This is expected, and simply means that the `legacy` (previous) behavior will be used so nothing changes for you. If you want to use the new behaviour, set `legacy=False`. This should only be set if you understand what it means, and thoroughly read the reason why this was added as explained in https://github.com/huggingface/transformers/pull/24565\n",
      "C:\\Users\\SHHome-Rdp_Kate\\AppData\\Local\\Packages\\PythonSoftwareFoundation.Python.3.11_qbz5n2kfra8p0\\LocalCache\\local-packages\\Python311\\site-packages\\transformers\\convert_slow_tokenizer.py:564: UserWarning: The sentencepiece tokenizer that you are converting to a fast tokenizer uses the byte fallback option which is not implemented in the fast tokenizers. In practice this means that the fast version of the tokenizer can produce unknown tokens whereas the sentencepiece version would have converted these unknown tokens into a sequence of byte tokens matching the original piece of text.\n",
      "  warnings.warn(\n"
     ]
    }
   ],
   "source": [
    "tokenizer = AutoTokenizer.from_pretrained(\"google/mt5-base\")\n",
    "model = AutoModelForSeq2SeqLM.from_pretrained(\"google/mt5-base\")\n",
    "model.config.pad_token_id = tokenizer.pad_token_id"
   ]
  },
  {
   "cell_type": "code",
   "execution_count": 16,
   "id": "1969226b",
   "metadata": {},
   "outputs": [],
   "source": [
    "model.config.use_cache = False \n",
    "model.gradient_checkpointing_enable()"
   ]
  },
  {
   "cell_type": "code",
   "execution_count": 17,
   "id": "5d44b8a4",
   "metadata": {},
   "outputs": [],
   "source": [
    "peft_cfg = LoraConfig(\n",
    "    r = 16, lora_alpha = 32, lora_dropout = 0.05, bias = \"none\", task_type = \"SEQ_2_SEQ_LM\",\n",
    "    target_modules = [\"q\",\"k\",\"v\",\"o\",\"wi_0\",\"wi_1\",\"wo\"]\n",
    ")"
   ]
  },
  {
   "cell_type": "code",
   "execution_count": 18,
   "id": "dd7a74de",
   "metadata": {},
   "outputs": [
    {
     "name": "stdout",
     "output_type": "stream",
     "text": [
      "trainable params: 6,782,976 || all params: 589,184,256 || trainable%: 1.1512\n"
     ]
    }
   ],
   "source": [
    "model = get_peft_model(model, peft_cfg)\n",
    "model.print_trainable_parameters()"
   ]
  },
  {
   "cell_type": "code",
   "execution_count": 19,
   "id": "0d9f06e0",
   "metadata": {},
   "outputs": [],
   "source": [
    "PREFIX = \"translate English to Ukrainian: \""
   ]
  },
  {
   "cell_type": "code",
   "execution_count": 20,
   "id": "64ddcb36",
   "metadata": {},
   "outputs": [],
   "source": [
    "def preprocess(batch):\n",
    "    inputs = [PREFIX + s for s in batch[\"src\"]]\n",
    "    model_inputs = tokenizer(\n",
    "        inputs, max_length = 128, truncation = True, padding = False\n",
    "    )\n",
    "    labels = tokenizer(\n",
    "        batch[\"tgt\"], max_length = 128, truncation = True, padding = False\n",
    "    )[\"input_ids\"]\n",
    "    model_inputs[\"labels\"] = labels\n",
    "    return model_inputs"
   ]
  },
  {
   "cell_type": "code",
   "execution_count": 21,
   "id": "518581e4",
   "metadata": {},
   "outputs": [
    {
     "name": "stderr",
     "output_type": "stream",
     "text": [
      "Map: 100%|██████████| 90000/90000 [00:06<00:00, 14959.89 examples/s]\n",
      "Map: 100%|██████████| 5000/5000 [00:00<00:00, 15776.39 examples/s]\n",
      "Map: 100%|██████████| 5000/5000 [00:00<00:00, 15652.53 examples/s]\n"
     ]
    }
   ],
   "source": [
    "train_ds = train_raw.map(preprocess, batched = True, remove_columns = train_raw.column_names)\n",
    "valid_ds = valid_raw.map(preprocess, batched = True, remove_columns = valid_raw.column_names)\n",
    "test_ds  = test_raw.map(preprocess,  batched = True, remove_columns = test_raw.column_names)\n"
   ]
  },
  {
   "cell_type": "code",
   "execution_count": 22,
   "id": "9e450ab0",
   "metadata": {},
   "outputs": [],
   "source": [
    "collator = DataCollatorForSeq2Seq(tokenizer = tokenizer, model = model)"
   ]
  },
  {
   "cell_type": "code",
   "execution_count": 23,
   "id": "d2b88110",
   "metadata": {},
   "outputs": [],
   "source": [
    "sacrebleu = evaluate.load(\"sacrebleu\")\n",
    "chrf = evaluate.load(\"chrf\")\n",
    "\n",
    "def postprocess_text(preds, labels):\n",
    "    preds = [p.strip() for p in preds]\n",
    "    labels = [[l.strip()] for l in labels]\n",
    "    return preds, labels\n",
    "\n",
    "sacrebleu = evaluate.load(\"sacrebleu\")\n",
    "chrf = evaluate.load(\"chrf\")\n",
    "\n",
    "def compute_metrics(eval_pred):\n",
    "    preds, labels = eval_pred\n",
    "\n",
    "    if isinstance(preds, tuple):\n",
    "        preds = preds[0]\n",
    "\n",
    "    pad_id = tokenizer.pad_token_id if tokenizer.pad_token_id is not None else 0\n",
    "\n",
    "    preds = np.asarray(preds)\n",
    "    preds[preds < 0] = pad_id\n",
    "    preds = preds.tolist()\n",
    "\n",
    "    labels = np.asarray(labels)\n",
    "    labels[labels < 0] = pad_id\n",
    "    labels = labels.tolist()\n",
    "\n",
    "    pred_txt = tokenizer.batch_decode(preds, skip_special_tokens = True, clean_up_tokenization_spaces = True)\n",
    "    ref_txt  = tokenizer.batch_decode(labels, skip_special_tokens = True, clean_up_tokenization_spaces = True)\n",
    "\n",
    "    bleu = sacrebleu.compute(predictions = pred_txt, references = [[t] for t in ref_txt])[\"score\"]\n",
    "    chrf_score = chrf.compute(predictions = pred_txt, references = [[t] for t in ref_txt])[\"score\"]\n",
    "\n",
    "    return {\"bleu\": bleu, \"chrf\": chrf_score}\n",
    "\n",
    "\n",
    "\n"
   ]
  },
  {
   "cell_type": "code",
   "execution_count": 24,
   "id": "d8e8ed16",
   "metadata": {},
   "outputs": [],
   "source": [
    "output_dir = r\"D:\\ml\"\n",
    "os.makedirs(output_dir, exist_ok=True)\n",
    "\n",
    "args = Seq2SeqTrainingArguments(\n",
    "    output_dir = output_dir,\n",
    "    save_safetensors = True,\n",
    "\n",
    "    eval_strategy = \"epoch\",\n",
    "    logging_strategy = \"epoch\",\n",
    "\n",
    "    save_strategy = \"no\",\n",
    "    load_best_model_at_end = False,\n",
    "    metric_for_best_model = \"eval_chrf\",\n",
    "    greater_is_better = True,\n",
    "\n",
    "    per_device_train_batch_size = 16,\n",
    "    per_device_eval_batch_size = 16,\n",
    "    gradient_accumulation_steps = 2,\n",
    "    num_train_epochs = 10,\n",
    "\n",
    "    learning_rate = 2e-4,\n",
    "    weight_decay = 0.01,\n",
    "    lr_scheduler_type = \"cosine\",\n",
    "    warmup_ratio = 0.05,\n",
    "    label_smoothing_factor = 0.1,\n",
    "\n",
    "    predict_with_generate = True,\n",
    "    generation_max_length = 128,\n",
    "    generation_num_beams = 4,\n",
    "\n",
    "    fp16 = use_fp16,\n",
    "    bf16 = use_bf16,\n",
    "\n",
    "    gradient_checkpointing = True,\n",
    "    remove_unused_columns = False,\n",
    "    dataloader_num_workers = 0,\n",
    "    report_to = \"none\",\n",
    "    optim = \"adamw_torch_fused\",\n",
    ")"
   ]
  },
  {
   "cell_type": "code",
   "execution_count": 25,
   "id": "3733df66",
   "metadata": {},
   "outputs": [
    {
     "name": "stderr",
     "output_type": "stream",
     "text": [
      "C:\\Users\\SHHome-Rdp_Kate\\AppData\\Local\\Temp\\ipykernel_7240\\4198842873.py:1: FutureWarning: `tokenizer` is deprecated and will be removed in version 5.0.0 for `Seq2SeqTrainer.__init__`. Use `processing_class` instead.\n",
      "  trainer = Seq2SeqTrainer(\n"
     ]
    }
   ],
   "source": [
    "trainer = Seq2SeqTrainer(\n",
    "    model = model,\n",
    "    args = args,\n",
    "    train_dataset = train_ds,\n",
    "    eval_dataset = valid_ds,\n",
    "    data_collator = collator,\n",
    "    tokenizer = tokenizer,\n",
    "    compute_metrics = compute_metrics\n",
    ")"
   ]
  },
  {
   "cell_type": "code",
   "execution_count": null,
   "id": "2200acd2",
   "metadata": {},
   "outputs": [
    {
     "data": {
      "text/html": [
       "\n",
       "    <div>\n",
       "      \n",
       "      <progress value='26051' max='28130' style='width:300px; height:20px; vertical-align: middle;'></progress>\n",
       "      [26051/28130 35:04:15 < 2:47:56, 0.21 it/s, Epoch 9.26/10]\n",
       "    </div>\n",
       "    <table border=\"1\" class=\"dataframe\">\n",
       "  <thead>\n",
       " <tr style=\"text-align: left;\">\n",
       "      <th>Epoch</th>\n",
       "      <th>Training Loss</th>\n",
       "      <th>Validation Loss</th>\n",
       "      <th>Bleu</th>\n",
       "      <th>Chrf</th>\n",
       "    </tr>\n",
       "  </thead>\n",
       "  <tbody>\n",
       "    <tr>\n",
       "      <td>1</td>\n",
       "      <td>6.086100</td>\n",
       "      <td>3.659070</td>\n",
       "      <td>12.042669</td>\n",
       "      <td>35.390954</td>\n",
       "    </tr>\n",
       "    <tr>\n",
       "      <td>2</td>\n",
       "      <td>4.173500</td>\n",
       "      <td>3.542022</td>\n",
       "      <td>14.013178</td>\n",
       "      <td>37.808354</td>\n",
       "    </tr>\n",
       "    <tr>\n",
       "      <td>3</td>\n",
       "      <td>4.021900</td>\n",
       "      <td>3.482545</td>\n",
       "      <td>15.090935</td>\n",
       "      <td>39.473074</td>\n",
       "    </tr>\n",
       "    <tr>\n",
       "      <td>4</td>\n",
       "      <td>3.923900</td>\n",
       "      <td>3.436420</td>\n",
       "      <td>15.828057</td>\n",
       "      <td>40.471892</td>\n",
       "    </tr>\n",
       "    <tr>\n",
       "      <td>5</td>\n",
       "      <td>3.857700</td>\n",
       "      <td>3.407248</td>\n",
       "      <td>16.692737</td>\n",
       "      <td>41.650764</td>\n",
       "    </tr>\n",
       "    <tr>\n",
       "      <td>6</td>\n",
       "      <td>3.809000</td>\n",
       "      <td>3.374879</td>\n",
       "      <td>17.104681</td>\n",
       "      <td>42.134303</td>\n",
       "    </tr>\n",
       "    <tr>\n",
       "      <td>7</td>\n",
       "      <td>3.775600</td>\n",
       "      <td>3.366297</td>\n",
       "      <td>17.328059</td>\n",
       "      <td>42.461980</td>\n",
       "    </tr>\n",
       "    <tr>\n",
       "      <td>8</td>\n",
       "      <td>3.754200</td>\n",
       "      <td>3.359988</td>\n",
       "      <td>17.595295</td>\n",
       "      <td>42.913361</td>\n",
       "    </tr>\n",
       "    <tr>\n",
       "      <td>9</td>\n",
       "      <td>3.742700</td>\n",
       "      <td>3.355760</td>\n",
       "      <td>17.700842</td>\n",
       "      <td>42.934947</td>\n",
       "    </tr>\n",
       "  </tbody>\n",
       "</table><p>"
      ],
      "text/plain": [
       "<IPython.core.display.HTML object>"
      ]
     },
     "metadata": {},
     "output_type": "display_data"
    }
   ],
   "source": [
    "trainer.train()"
   ]
  },
  {
   "cell_type": "code",
   "execution_count": null,
   "id": "638317bb",
   "metadata": {},
   "outputs": [
    {
     "name": "stdout",
     "output_type": "stream",
     "text": [
      "[INFO] Full merged model saved to: C:\\ml\\m_full\n"
     ]
    }
   ],
   "source": [
    "merged = model.merge_and_unload()\n",
    "full_dir = rf\"{output_dir}_full\"\n",
    "os.makedirs(full_dir, exist_ok=True)\n",
    "\n",
    "merged.save_pretrained(full_dir, safe_serialization=True)\n",
    "tokenizer.save_pretrained(full_dir)\n",
    "\n",
    "print(f\"Full merged model saved to: {full_dir}\")"
   ]
  }
 ],
 "metadata": {
  "kernelspec": {
   "display_name": "Python 3",
   "language": "python",
   "name": "python3"
  },
  "language_info": {
   "codemirror_mode": {
    "name": "ipython",
    "version": 3
   },
   "file_extension": ".py",
   "mimetype": "text/x-python",
   "name": "python",
   "nbconvert_exporter": "python",
   "pygments_lexer": "ipython3",
   "version": "3.11.9"
  }
 },
 "nbformat": 4,
 "nbformat_minor": 5
}
